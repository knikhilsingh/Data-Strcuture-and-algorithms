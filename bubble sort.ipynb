{
 "cells": [
  {
   "cell_type": "code",
   "execution_count": 1,
   "metadata": {},
   "outputs": [],
   "source": [
    "import random"
   ]
  },
  {
   "cell_type": "code",
   "execution_count": 2,
   "metadata": {},
   "outputs": [],
   "source": [
    "initial_range = 10\n",
    "final_range = 100\n",
    "no_of_elements = 10"
   ]
  },
  {
   "cell_type": "code",
   "execution_count": 3,
   "metadata": {},
   "outputs": [],
   "source": [
    "list_of_random_numbers = random.sample(range(initial_range, final_range), no_of_elements )"
   ]
  },
  {
   "cell_type": "code",
   "execution_count": 4,
   "metadata": {},
   "outputs": [
    {
     "data": {
      "text/plain": [
       "[37, 47, 53, 99, 44, 96, 39, 14, 97, 40]"
      ]
     },
     "execution_count": 4,
     "metadata": {},
     "output_type": "execute_result"
    }
   ],
   "source": [
    "list_of_random_numbers"
   ]
  },
  {
   "cell_type": "code",
   "execution_count": 8,
   "metadata": {},
   "outputs": [],
   "source": [
    "def bubble_sort_in_non_decreasing_order(alist):\n",
    "    \"\"\"\n",
    "    sort value from smallest to highest\n",
    "    \"\"\"\n",
    "    # Traverse through all array elements \n",
    "    for i in range(len(alist)): \n",
    "        # Last i elements are already in place \n",
    "        for j in range(0, len(alist)-i-1):\n",
    "  \n",
    "            # traverse the array from 0 to n-i-1. Swap if the element found is greater than the next element \n",
    "            if alist[j] > alist[j+1] : \n",
    "                alist[j], alist[j+1] = alist[j+1], alist[j]\n",
    "    return alist"
   ]
  },
  {
   "cell_type": "code",
   "execution_count": 9,
   "metadata": {},
   "outputs": [
    {
     "name": "stdout",
     "output_type": "stream",
     "text": [
      "unsorted sorted array\n",
      "37 47 53 99 44 96 39 14 97 40 \n",
      "sorted array in non decreasing order\n",
      "14 37 39 40 44 47 53 96 97 99 "
     ]
    }
   ],
   "source": [
    "print ('unsorted sorted array') \n",
    "for i in range(len(list_of_random_numbers)): \n",
    "    print(\"%d\" %list_of_random_numbers[i], end=' ')\n",
    "print ('\\nsorted array in non decreasing order')\n",
    "sorted_array = bubble_sort_in_non_decreasing_order(list_of_random_numbers)\n",
    "for i in range(len(sorted_array)):\n",
    "    print('%d' %sorted_array[i], end=' ')"
   ]
  },
  {
   "cell_type": "code",
   "execution_count": 10,
   "metadata": {},
   "outputs": [],
   "source": [
    "def bubble_sort_in_non_increasing_order(alist):\n",
    "    \"\"\"\n",
    "    sort value from smallest to highest\n",
    "    \"\"\"\n",
    "    # Traverse through all array elements \n",
    "    for i in range(len(alist)): \n",
    "        # Last i elements are already in place \n",
    "        for j in range(0, len(alist)-i-1):\n",
    "  \n",
    "            # traverse the array from 0 to n-i-1. Swap if the element found is greater than the next element \n",
    "            if alist[j] < alist[j+1] : \n",
    "                alist[j], alist[j+1] = alist[j+1], alist[j]\n",
    "    return alist"
   ]
  },
  {
   "cell_type": "code",
   "execution_count": 11,
   "metadata": {},
   "outputs": [
    {
     "name": "stdout",
     "output_type": "stream",
     "text": [
      "unsorted sorted array\n",
      "14 37 39 40 44 47 53 96 97 99 \n",
      "sorted array in non decreasing order\n",
      "99 97 96 53 47 44 40 39 37 14 "
     ]
    }
   ],
   "source": [
    "print ('unsorted sorted array') \n",
    "for i in range(len(list_of_random_numbers)): \n",
    "    print(\"%d\" %list_of_random_numbers[i], end=' ')\n",
    "print ('\\nsorted array in non decreasing order')\n",
    "sorted_array = bubble_sort_in_non_increasing_order(list_of_random_numbers)\n",
    "for i in range(len(sorted_array)):\n",
    "    print('%d' %sorted_array[i], end=' ')"
   ]
  },
  {
   "cell_type": "code",
   "execution_count": null,
   "metadata": {},
   "outputs": [],
   "source": []
  }
 ],
 "metadata": {
  "kernelspec": {
   "display_name": "Python 3",
   "language": "python",
   "name": "python3"
  },
  "language_info": {
   "codemirror_mode": {
    "name": "ipython",
    "version": 3
   },
   "file_extension": ".py",
   "mimetype": "text/x-python",
   "name": "python",
   "nbconvert_exporter": "python",
   "pygments_lexer": "ipython3",
   "version": "3.6.5"
  }
 },
 "nbformat": 4,
 "nbformat_minor": 2
}
