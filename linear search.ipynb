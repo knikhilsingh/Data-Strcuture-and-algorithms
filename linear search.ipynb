{
 "cells": [
  {
   "cell_type": "code",
   "execution_count": 1,
   "metadata": {},
   "outputs": [],
   "source": [
    "import random"
   ]
  },
  {
   "cell_type": "code",
   "execution_count": 2,
   "metadata": {},
   "outputs": [],
   "source": [
    "initial_range = 1\n",
    "final_range = 100\n",
    "no_of_elements = 50"
   ]
  },
  {
   "cell_type": "code",
   "execution_count": 3,
   "metadata": {},
   "outputs": [],
   "source": [
    "def linear_search(arr, x):\n",
    "    \"\"\"\n",
    "    performs a linear search\n",
    "    :param arr: Iterable of elements\n",
    "    :param x: Element to search for\n",
    "    :return: Index if element found else None\n",
    "    \"\"\"\n",
    "    l = len(arr)\n",
    "    for i in range(l):\n",
    "        if arr[i] == x:\n",
    "            return i\n",
    "    return None"
   ]
  },
  {
   "cell_type": "code",
   "execution_count": 4,
   "metadata": {},
   "outputs": [],
   "source": [
    "search_value = random.randint(0,100)\n",
    "list_of_random_numbers = random.sample(range(initial_range, final_range), no_of_elements )"
   ]
  },
  {
   "cell_type": "code",
   "execution_count": 5,
   "metadata": {},
   "outputs": [
    {
     "name": "stdout",
     "output_type": "stream",
     "text": [
      "Element 50 found at index 3\n"
     ]
    }
   ],
   "source": [
    "index = linear_search(list_of_random_numbers, search_value)\n",
    "if index is None:\n",
    "    print('Element %s not found in array' %search_value)\n",
    "else:\n",
    "    print('Element %s found at index %s' %(search_value, index))"
   ]
  },
  {
   "cell_type": "code",
   "execution_count": null,
   "metadata": {},
   "outputs": [],
   "source": []
  }
 ],
 "metadata": {
  "kernelspec": {
   "display_name": "Python 3",
   "language": "python",
   "name": "python3"
  },
  "language_info": {
   "codemirror_mode": {
    "name": "ipython",
    "version": 3
   },
   "file_extension": ".py",
   "mimetype": "text/x-python",
   "name": "python",
   "nbconvert_exporter": "python",
   "pygments_lexer": "ipython3",
   "version": "3.6.5"
  }
 },
 "nbformat": 4,
 "nbformat_minor": 2
}
