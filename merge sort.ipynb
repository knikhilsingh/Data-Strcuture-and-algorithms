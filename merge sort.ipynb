{
 "cells": [
  {
   "cell_type": "code",
   "execution_count": 1,
   "metadata": {},
   "outputs": [],
   "source": [
    "import random"
   ]
  },
  {
   "cell_type": "code",
   "execution_count": 2,
   "metadata": {},
   "outputs": [],
   "source": [
    "initial_range = 10\n",
    "final_range = 100\n",
    "no_of_elements = 10"
   ]
  },
  {
   "cell_type": "code",
   "execution_count": 3,
   "metadata": {},
   "outputs": [],
   "source": [
    "list_of_random_numbers = random.sample(range(initial_range, final_range), no_of_elements )"
   ]
  },
  {
   "cell_type": "code",
   "execution_count": 4,
   "metadata": {},
   "outputs": [
    {
     "data": {
      "text/plain": [
       "[33, 44, 91, 38, 36, 78, 40, 72, 69, 37]"
      ]
     },
     "execution_count": 4,
     "metadata": {},
     "output_type": "execute_result"
    }
   ],
   "source": [
    "list_of_random_numbers"
   ]
  },
  {
   "cell_type": "markdown",
   "metadata": {},
   "source": [
    "# order of complexity\n",
    "Time Complexity: Theta(nLogn)\n",
    "\n",
    "Auxiliary Space: O(n)"
   ]
  },
  {
   "cell_type": "markdown",
   "metadata": {},
   "source": [
    "# merge sort in non decreasing order "
   ]
  },
  {
   "cell_type": "code",
   "execution_count": 5,
   "metadata": {},
   "outputs": [],
   "source": [
    "def merge_sort_in_non_decreasing_order(alist):\n",
    "    \"\"\"\n",
    "    sort values from smallest to highest\n",
    "    \"\"\"\n",
    "#     print(\"Splitting \",alist)\n",
    "    if len(alist)>1:\n",
    "        mid = len(alist)//2\n",
    "        lefthalf = alist[:mid]\n",
    "        righthalf = alist[mid:]\n",
    "        merge_sort_in_non_decreasing_order(lefthalf)\n",
    "        merge_sort_in_non_decreasing_order(righthalf)\n",
    "        i=0; j=0; k=0\n",
    "        while i < len(lefthalf) and j < len(righthalf):\n",
    "            if lefthalf[i] <= righthalf[j]:\n",
    "                alist[k]=lefthalf[i]\n",
    "                i=i+1\n",
    "            else:\n",
    "                alist[k]=righthalf[j]\n",
    "                j=j+1\n",
    "            k=k+1\n",
    "        # copy the remaining elements of L\n",
    "        while i < len(lefthalf):\n",
    "            alist[k]=lefthalf[i]\n",
    "            i=i+1\n",
    "            k=k+1\n",
    "        # copy the remaining elements of R\n",
    "        while j < len(righthalf):\n",
    "            alist[k]=righthalf[j]\n",
    "            j=j+1\n",
    "            k=k+1\n",
    "#     print(\"Merging \",alist)\n",
    "    return alist"
   ]
  },
  {
   "cell_type": "code",
   "execution_count": 6,
   "metadata": {},
   "outputs": [
    {
     "name": "stdout",
     "output_type": "stream",
     "text": [
      "unsorted sorted array\n",
      "33 44 91 38 36 78 40 72 69 37 \n",
      "sorted array in non decreasing order\n",
      "33 36 37 38 40 44 69 72 78 91 "
     ]
    }
   ],
   "source": [
    "print ('unsorted sorted array') \n",
    "for i in range(len(list_of_random_numbers)): \n",
    "    print(\"%d\" %list_of_random_numbers[i], end=' ')\n",
    "print ('\\nsorted array in non decreasing order')\n",
    "sorted_array = merge_sort_in_non_decreasing_order(list_of_random_numbers)\n",
    "for i in range(len(sorted_array)):\n",
    "    print('%d' %sorted_array[i], end=' ')"
   ]
  },
  {
   "cell_type": "markdown",
   "metadata": {},
   "source": [
    "# merge sort in non increasing order "
   ]
  },
  {
   "cell_type": "code",
   "execution_count": 10,
   "metadata": {},
   "outputs": [],
   "source": [
    "def merge_sort_in_non_increasing_order(left, right):\n",
    "    \"\"\"\n",
    "    sort values from highest to smallest\n",
    "    \"\"\"\n",
    "    result = []\n",
    "    i,j = 0,0\n",
    "    while i<len(left) and j<len(right):\n",
    "        # non increasing codition\n",
    "        if left[i] >= right[j]:\n",
    "            result.append(left[i])\n",
    "            i+=1\n",
    "        else:\n",
    "            result.append(right[j])\n",
    "            j+=1\n",
    "    result += left[i:]\n",
    "    result += right[j:]\n",
    "    return result"
   ]
  },
  {
   "cell_type": "code",
   "execution_count": 11,
   "metadata": {},
   "outputs": [],
   "source": [
    "def merge_sort(lst):\n",
    "\n",
    "    if(len(lst)<= 1):\n",
    "        return lst\n",
    "    mid = int(len(lst)/2)\n",
    "    left = merge_sort(lst[:mid]) \n",
    "    right = merge_sort(lst[mid:])\n",
    "    return merge_sort_in_non_increasing_order(left,right)  "
   ]
  },
  {
   "cell_type": "code",
   "execution_count": 12,
   "metadata": {},
   "outputs": [
    {
     "name": "stdout",
     "output_type": "stream",
     "text": [
      "unsorted sorted array\n",
      "33 36 37 38 40 44 69 72 78 91 \n",
      "sorted array in non decreasing order\n",
      "91 78 72 69 44 40 38 37 36 33 "
     ]
    }
   ],
   "source": [
    "print ('unsorted sorted array') \n",
    "for i in range(len(list_of_random_numbers)): \n",
    "    print(\"%d\" %list_of_random_numbers[i], end=' ')\n",
    "print ('\\nsorted array in non decreasing order')\n",
    "sorted_array = merge_sort(list_of_random_numbers)\n",
    "for i in range(len(sorted_array)):\n",
    "    print('%d' %sorted_array[i], end=' ')"
   ]
  },
  {
   "cell_type": "code",
   "execution_count": null,
   "metadata": {},
   "outputs": [],
   "source": []
  }
 ],
 "metadata": {
  "kernelspec": {
   "display_name": "Python 3",
   "language": "python",
   "name": "python3"
  },
  "language_info": {
   "codemirror_mode": {
    "name": "ipython",
    "version": 3
   },
   "file_extension": ".py",
   "mimetype": "text/x-python",
   "name": "python",
   "nbconvert_exporter": "python",
   "pygments_lexer": "ipython3",
   "version": "3.6.5"
  }
 },
 "nbformat": 4,
 "nbformat_minor": 2
}
