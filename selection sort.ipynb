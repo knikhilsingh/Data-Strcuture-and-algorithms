{
 "cells": [
  {
   "cell_type": "code",
   "execution_count": 1,
   "metadata": {},
   "outputs": [],
   "source": [
    "import random"
   ]
  },
  {
   "cell_type": "code",
   "execution_count": 2,
   "metadata": {},
   "outputs": [],
   "source": [
    "initial_range = 10\n",
    "final_range = 100\n",
    "no_of_elements = 10"
   ]
  },
  {
   "cell_type": "code",
   "execution_count": 5,
   "metadata": {},
   "outputs": [],
   "source": [
    "list_of_random_numbers = random.sample(range(initial_range, final_range), no_of_elements )"
   ]
  },
  {
   "cell_type": "code",
   "execution_count": 6,
   "metadata": {},
   "outputs": [
    {
     "data": {
      "text/plain": [
       "[81, 76, 27, 69, 93, 95, 98, 49, 44, 62]"
      ]
     },
     "execution_count": 6,
     "metadata": {},
     "output_type": "execute_result"
    }
   ],
   "source": [
    "list_of_random_numbers"
   ]
  },
  {
   "cell_type": "code",
   "execution_count": 34,
   "metadata": {},
   "outputs": [],
   "source": [
    "def selection_sort_in_non_decreasing_order(alist):\n",
    "    \"\"\"\n",
    "    sort the array from smallest to highest values\n",
    "    \"\"\"\n",
    "    # Traverse through all array elements \n",
    "    for i in range(len(alist)): \n",
    "        min_idx = i \n",
    "        for j in range(i+1, len(alist)): \n",
    "            if alist[min_idx] > alist[j]: \n",
    "                min_idx = j \n",
    "              \n",
    "        # Swap the found minimum element with  the first element         \n",
    "        alist[i], alist[min_idx] = alist[min_idx], alist[i]\n",
    "    return alist"
   ]
  },
  {
   "cell_type": "code",
   "execution_count": 36,
   "metadata": {},
   "outputs": [
    {
     "name": "stdout",
     "output_type": "stream",
     "text": [
      "unsorted sorted array\n",
      "27 44 49 62 69 76 81 93 95 98 \n",
      "sorted array in non decreasing\n",
      "27 44 49 62 69 76 81 93 95 98 "
     ]
    }
   ],
   "source": [
    "print ('unsorted sorted array') \n",
    "for i in range(len(list_of_random_numbers)): \n",
    "    print(\"%d\" %list_of_random_numbers[i], end=' ')\n",
    "print ('\\nsorted array in non decreasing order')\n",
    "sorted_array = selection_sort_in_non_decreasing_order(list_of_random_numbers)\n",
    "for i in range(len(sorted_array)):\n",
    "    print('%d' %sorted_array[i], end=' ')"
   ]
  },
  {
   "cell_type": "code",
   "execution_count": 37,
   "metadata": {},
   "outputs": [],
   "source": [
    "def selection_sort_in_non_increasing_order(alist):\n",
    "    \"\"\"\n",
    "    sort the array from smallest to highest values\n",
    "    \"\"\"\n",
    "    # Traverse through all array elements \n",
    "    for i in range(len(alist)): \n",
    "        min_idx = i \n",
    "        for j in range(i+1, len(alist)): \n",
    "            if alist[min_idx] > alist[j]: \n",
    "                min_idx = j \n",
    "              \n",
    "        # Swap the found minimum element with  the first element         \n",
    "        alist[i], alist[min_idx] = alist[min_idx], alist[i]\n",
    "    return alist"
   ]
  },
  {
   "cell_type": "code",
   "execution_count": null,
   "metadata": {},
   "outputs": [],
   "source": [
    "print ('unsorted sorted array') \n",
    "for i in range(len(list_of_random_numbers)): \n",
    "    print(\"%d\" %list_of_random_numbers[i], end=' ')\n",
    "print ('\\nsorted array in non decreasing')\n",
    "sorted_array = selection_sort_in_non_decreasing_order(list_of_random_numbers)\n",
    "for i in range(len(sorted_array)):\n",
    "    print('%d' %sorted_array[i], end=' ')"
   ]
  }
 ],
 "metadata": {
  "kernelspec": {
   "display_name": "Python 3",
   "language": "python",
   "name": "python3"
  },
  "language_info": {
   "codemirror_mode": {
    "name": "ipython",
    "version": 3
   },
   "file_extension": ".py",
   "mimetype": "text/x-python",
   "name": "python",
   "nbconvert_exporter": "python",
   "pygments_lexer": "ipython3",
   "version": "3.6.5"
  }
 },
 "nbformat": 4,
 "nbformat_minor": 2
}
